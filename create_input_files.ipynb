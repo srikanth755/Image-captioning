{
 "cells": [
  {
   "cell_type": "code",
   "execution_count": null,
   "metadata": {},
   "outputs": [],
   "source": [
    "from utils import create_input_files\n",
    "\n",
    "if __name__ == '__main__':\n",
    "    # Create input files (along with word map)\n",
    "    create_input_files(dataset='flickr8k',\n",
    "                       karpathy_json_path='path_to_dataset_flickr8k.json',\n",
    "                       image_folder='path_to_/flickr8k/Images',\n",
    "                       captions_per_image=5,\n",
    "                       min_word_freq=5,\n",
    "                       output_folder='path_to_output_folder',\n",
    "                       max_len=50)"
   ]
  }
 ],
 "metadata": {
  "kernelspec": {
   "display_name": ".venv",
   "language": "python",
   "name": "python3"
  },
  "language_info": {
   "codemirror_mode": {
    "name": "ipython",
    "version": 3
   },
   "file_extension": ".py",
   "mimetype": "text/x-python",
   "name": "python",
   "nbconvert_exporter": "python",
   "pygments_lexer": "ipython3",
   "version": "3.9.18"
  }
 },
 "nbformat": 4,
 "nbformat_minor": 2
}
